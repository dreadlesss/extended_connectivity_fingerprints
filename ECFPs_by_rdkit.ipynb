{
 "cells": [
  {
   "cell_type": "code",
   "execution_count": 58,
   "metadata": {},
   "outputs": [],
   "source": [
    "# 参考http://www.rdkit.org/docs/GettingStartedInPython.html\n",
    "from rdkit import Chem\n",
    "from rdkit import DataStructs\n",
    "from rdkit.Chem import AllChem\n",
    "from rdkit.Chem import Draw"
   ]
  },
  {
   "cell_type": "markdown",
   "metadata": {},
   "source": [
    "# 分子指纹生成"
   ]
  },
  {
   "cell_type": "markdown",
   "metadata": {},
   "source": [
    "* 初始化"
   ]
  },
  {
   "cell_type": "code",
   "execution_count": 17,
   "metadata": {},
   "outputs": [
    {
     "data": {
      "image/png": "[encoded data removed]",
      "text/plain": [
       "<PIL.PngImagePlugin.PngImageFile image mode=RGB size=450x150 at 0x7AB9848>"
      ]
     },
     "execution_count": 17,
     "metadata": {},
     "output_type": "execute_result"
    }
   ],
   "source": [
    "# 初始化rdkit mol对象m1和m2，并查看\n",
    "m1 = Chem.MolFromSmiles('ClC1=COCNC1')\n",
    "m2 = Chem.MolFromSmiles('BrC1=COCNC1')\n",
    "Draw.MolsToGridImage([m1, m2], subImgSize=(150, 150), legends=['ClC1CNCOC1', 'BrC1CNCOC1'])"
   ]
  },
  {
   "cell_type": "markdown",
   "metadata": {},
   "source": [
    "* 以SparseBitVects方式生成ECFPs指纹，需要传入mol和radius"
   ]
  },
  {
   "cell_type": "code",
   "execution_count": 18,
   "metadata": {},
   "outputs": [
    {
     "data": {
      "text/plain": [
       "0.7"
      ]
     },
     "execution_count": 18,
     "metadata": {},
     "output_type": "execute_result"
    }
   ],
   "source": [
    "fp1 = AllChem.GetMorganFingerprint(m1, 2)\n",
    "fp2 = AllChem.GetMorganFingerprint(m2, 2)\n",
    "DataStructs.DiceSimilarity(fp1, fp2)"
   ]
  },
  {
   "cell_type": "markdown",
   "metadata": {},
   "source": [
    "* 以ExplicitBitVects方式生成ECFPs指纹，需要传入mol，radius和长度nBits"
   ]
  },
  {
   "cell_type": "code",
   "execution_count": 19,
   "metadata": {},
   "outputs": [
    {
     "data": {
      "text/plain": [
       "0.6842105263157895"
      ]
     },
     "execution_count": 19,
     "metadata": {},
     "output_type": "execute_result"
    }
   ],
   "source": [
    "fp1 = AllChem.GetMorganFingerprintAsBitVect(m1, 2, nBits=1024)\n",
    "fp2 = AllChem.GetMorganFingerprintAsBitVect(m2, 2, nBits=1024)\n",
    "DataStructs.DiceSimilarity(fp1, fp2)"
   ]
  },
  {
   "cell_type": "markdown",
   "metadata": {},
   "source": [
    "* 通过设置useFeatures=True生成FCFPs <br /> \n",
    "可以看到ffp1和ffp2完全一致，即Cl和Br在特征上被归为一类"
   ]
  },
  {
   "cell_type": "code",
   "execution_count": 20,
   "metadata": {},
   "outputs": [
    {
     "data": {
      "text/plain": [
       "1.0"
      ]
     },
     "execution_count": 20,
     "metadata": {},
     "output_type": "execute_result"
    }
   ],
   "source": [
    "ffp1 = AllChem.GetMorganFingerprint(m1, 2, useFeatures=True)\n",
    "ffp2 = AllChem.GetMorganFingerprint(m2, 2, useFeatures=True)\n",
    "DataStructs.DiceSimilarity(ffp1, ffp2)"
   ]
  },
  {
   "cell_type": "code",
   "execution_count": 21,
   "metadata": {},
   "outputs": [
    {
     "data": {
      "text/plain": [
       "1.0"
      ]
     },
     "execution_count": 21,
     "metadata": {},
     "output_type": "execute_result"
    }
   ],
   "source": [
    "ffp1 = AllChem.GetMorganFingerprintAsBitVect(m1, 2, useFeatures=True)\n",
    "ffp2 = AllChem.GetMorganFingerprintAsBitVect(m2, 2, useFeatures=True)\n",
    "DataStructs.DiceSimilarity(ffp1, ffp2)"
   ]
  },
  {
   "cell_type": "markdown",
   "metadata": {},
   "source": [
    "# 分子指纹提取"
   ]
  },
  {
   "cell_type": "markdown",
   "metadata": {},
   "source": [
    "* 通过向参数bitInfo传入字典，可以获取所有非空指纹信息 <br /> \n",
    "字典info键表示位的索引，值为原子索引、半径构成的元组，出现多个元组时，表示子结构出现了多次<br />\n",
    "键为2968968094的值中含有多个元组，表示原子索引为4,6，半径为0的子结构相同，都记录在这一位上"
   ]
  },
  {
   "cell_type": "code",
   "execution_count": 24,
   "metadata": {},
   "outputs": [
    {
     "data": {
      "text/plain": [
       "{39328034: ((1, 1),),\n",
       " 211414882: ((5, 2),),\n",
       " 362715007: ((6, 1),),\n",
       " 397705891: ((4, 1),),\n",
       " 718785834: ((1, 2),),\n",
       " 1016841875: ((0, 0),),\n",
       " 1078999752: ((3, 1),),\n",
       " 1289643292: ((5, 1),),\n",
       " 2132511834: ((5, 0),),\n",
       " 2626911012: ((4, 2),),\n",
       " 2968968094: ((4, 0), (6, 0)),\n",
       " 3145053355: ((2, 1),),\n",
       " 3189457552: ((3, 0),),\n",
       " 3217380708: ((1, 0),),\n",
       " 3218693969: ((2, 0),),\n",
       " 3452535345: ((0, 1),),\n",
       " 3916672621: ((6, 2),),\n",
       " 4196496269: ((2, 2),),\n",
       " 4217154750: ((3, 2),)}"
      ]
     },
     "execution_count": 24,
     "metadata": {},
     "output_type": "execute_result"
    }
   ],
   "source": [
    "info = {}\n",
    "fp_explain = AllChem.GetMorganFingerprint(m1, 2, bitInfo=info)\n",
    "info"
   ]
  },
  {
   "cell_type": "markdown",
   "metadata": {},
   "source": [
    "## 方法一\n",
    "* 以提取出211414882的结构为例，首先提取m1中，半径为2，第5个原子的结构 <br />\n",
    "submol接收提取出的子结构 <br />\n",
    "amap用于接收原子索引的映射关系，键为原始分子中的原子索引，值为子结构中的原子索引<br />\n",
    "env是被提取出的键的索引"
   ]
  },
  {
   "cell_type": "code",
   "execution_count": 25,
   "metadata": {},
   "outputs": [
    {
     "name": "stdout",
     "output_type": "stream",
     "text": [
      "{1: 4, 3: 0, 4: 1, 5: 2, 6: 3}\n",
      "[4, 5, 3, 6]\n"
     ]
    }
   ],
   "source": [
    "amap = {}\n",
    "env = Chem.FindAtomEnvironmentOfRadiusN(m1, 2, 5)\n",
    "submol=Chem.PathToSubmol(m1, env, atomMap=amap)\n",
    "print(amap)\n",
    "print(list(env))"
   ]
  },
  {
   "cell_type": "markdown",
   "metadata": {},
   "source": [
    "* 用SMILES表示该子结构"
   ]
  },
  {
   "cell_type": "code",
   "execution_count": 26,
   "metadata": {},
   "outputs": [
    {
     "data": {
      "text/plain": [
       "'CCNCO'"
      ]
     },
     "execution_count": 26,
     "metadata": {},
     "output_type": "execute_result"
    }
   ],
   "source": [
    "Chem.MolToSmiles(submol)"
   ]
  },
  {
   "cell_type": "markdown",
   "metadata": {},
   "source": [
    "* 以第5个原子为中心，用SMILES表示该子结构，可以看出是氮原子"
   ]
  },
  {
   "cell_type": "code",
   "execution_count": 28,
   "metadata": {},
   "outputs": [
    {
     "data": {
      "text/plain": [
       "'N(CO)CC'"
      ]
     },
     "execution_count": 28,
     "metadata": {},
     "output_type": "execute_result"
    }
   ],
   "source": [
    "Chem.MolToSmiles(submol, rootedAtAtom=amap[5], canonical=False)"
   ]
  },
  {
   "cell_type": "markdown",
   "metadata": {},
   "source": [
    "## 方法二\n",
    "* 遍历env中的所有键，获取键连接的所有原子，保存在atoms中 <br />\n",
    "通过给定分子，及要提取的原子信息、键信息，获取子结构"
   ]
  },
  {
   "cell_type": "code",
   "execution_count": 29,
   "metadata": {},
   "outputs": [
    {
     "data": {
      "text/plain": [
       "'N(CC)CO'"
      ]
     },
     "execution_count": 29,
     "metadata": {},
     "output_type": "execute_result"
    }
   ],
   "source": [
    "atoms=set()\n",
    "for bidx in env: \n",
    "    atoms.add(m1.GetBondWithIdx(bidx).GetBeginAtomIdx())\n",
    "    atoms.add(m1.GetBondWithIdx(bidx).GetEndAtomIdx())\n",
    "Chem.MolFragmentToSmiles(m1, atomsToUse=list(atoms), bondsToUse=env, rootedAtAtom=5)"
   ]
  },
  {
   "cell_type": "markdown",
   "metadata": {},
   "source": [
    "# 分子指纹可视化"
   ]
  },
  {
   "cell_type": "markdown",
   "metadata": {},
   "source": [
    "* 绘制211414882代表的子结构"
   ]
  },
  {
   "cell_type": "code",
   "execution_count": 68,
   "metadata": {},
   "outputs": [
    {
     "data": {
      "image/png": "[encoded data removed]",
      "text/plain": [
       "<PIL.PngImagePlugin.PngImageFile image mode=RGB size=150x150 at 0x8C881C8>"
      ]
     },
     "execution_count": 68,
     "metadata": {},
     "output_type": "execute_result"
    }
   ],
   "source": [
    "Draw.DrawMorganBit(m1, 211414882, info)"
   ]
  },
  {
   "cell_type": "markdown",
   "metadata": {},
   "source": [
    "* 在ECFPs中的颜色的含义：<br />\n",
    "蓝色：表示中心原子<br />\n",
    "黄色：表示带有芳香性质的原子<br />\n",
    "灰色：表示在脂肪环中的原子"
   ]
  },
  {
   "cell_type": "code",
   "execution_count": 70,
   "metadata": {},
   "outputs": [
    {
     "data": {
      "image/svg+xml": [
       "<svg baseProfile=\"full\" height=\"150px\" version=\"1.1\" viewBox=\"0 0 150 150\" width=\"150px\" xml:space=\"preserve\" xmlns=\"http://www.w3.org/2000/svg\" xmlns:rdkit=\"http://www.rdkit.org/xml\" xmlns:xlink=\"http://www.w3.org/1999/xlink\">\n",
       "<!-- END OF HEADER -->\n",
       "<rect height=\"150\" style=\"opacity:1.0;fill:#FFFFFF;stroke:none\" width=\"150\" x=\"0\" y=\"0\"> </rect>\n",
       "<ellipse cx=\"55.9881\" cy=\"92.3437\" rx=\"5.77835\" ry=\"5.77835\" style=\"fill:#E5E533;fill-rule:evenodd;stroke:#E5E533;stroke-width:2px;stroke-linecap:butt;stroke-linejoin:miter;stroke-opacity:1\"/>\n",
       "<ellipse cx=\"35.4002\" cy=\"46.7329\" rx=\"5.77835\" ry=\"5.77835\" style=\"fill:#E5E533;fill-rule:evenodd;stroke:#E5E533;stroke-width:2px;stroke-linecap:butt;stroke-linejoin:miter;stroke-opacity:1\"/>\n",
       "<ellipse cx=\"58.8609\" cy=\"63.5951\" rx=\"5.77835\" ry=\"5.77835\" style=\"fill:#E5E533;fill-rule:evenodd;stroke:#E5E533;stroke-width:2px;stroke-linecap:butt;stroke-linejoin:miter;stroke-opacity:1\"/>\n",
       "<ellipse cx=\"85.1943\" cy=\"51.7087\" rx=\"5.77835\" ry=\"5.77835\" style=\"fill:#9999E5;fill-rule:evenodd;stroke:#9999E5;stroke-width:2px;stroke-linecap:butt;stroke-linejoin:miter;stroke-opacity:1\"/>\n",
       "<ellipse cx=\"108.655\" cy=\"68.5709\" rx=\"5.77835\" ry=\"5.77835\" style=\"fill:#CCCCCC;fill-rule:evenodd;stroke:#CCCCCC;stroke-width:2px;stroke-linecap:butt;stroke-linejoin:miter;stroke-opacity:1\"/>\n",
       "<ellipse cx=\"137.403\" cy=\"71.4437\" rx=\"5.77835\" ry=\"5.77835\" style=\"fill:#CCCCCC;fill-rule:evenodd;stroke:#CCCCCC;stroke-width:2px;stroke-linecap:butt;stroke-linejoin:miter;stroke-opacity:1\"/>\n",
       "<ellipse cx=\"120.541\" cy=\"94.9043\" rx=\"5.77835\" ry=\"5.77835\" style=\"fill:#CCCCCC;fill-rule:evenodd;stroke:#CCCCCC;stroke-width:2px;stroke-linecap:butt;stroke-linejoin:miter;stroke-opacity:1\"/>\n",
       "<path class=\"bond-0\" d=\"M 54.7995,89.7104 L 30.7148,100.582\" style=\"fill:none;fill-rule:evenodd;stroke:#E5E5E5;stroke-width:2px;stroke-linecap:butt;stroke-linejoin:miter;stroke-opacity:1\"/>\n",
       "<path class=\"bond-0\" d=\"M 57.1767,94.977 L 33.092,105.848\" style=\"fill:none;fill-rule:evenodd;stroke:#E5E5E5;stroke-width:2px;stroke-linecap:butt;stroke-linejoin:miter;stroke-opacity:1;stroke-dasharray:6,6\"/>\n",
       "<path class=\"bond-7\" d=\"M 55.9881,92.3437 L 58.8609,63.5951\" style=\"fill:none;fill-rule:evenodd;stroke:#000000;stroke-width:2px;stroke-linecap:butt;stroke-linejoin:miter;stroke-opacity:1\"/>\n",
       "<path class=\"bond-7\" d=\"M 50.6693,87.4569 L 52.6802,67.3329\" style=\"fill:none;fill-rule:evenodd;stroke:#000000;stroke-width:2px;stroke-linecap:butt;stroke-linejoin:miter;stroke-opacity:1;stroke-dasharray:6,6\"/>\n",
       "<path class=\"bond-1\" d=\"M 12.5042,60.2377 L 36.5889,49.3663\" style=\"fill:none;fill-rule:evenodd;stroke:#E5E5E5;stroke-width:2px;stroke-linecap:butt;stroke-linejoin:miter;stroke-opacity:1\"/>\n",
       "<path class=\"bond-1\" d=\"M 10.1269,54.971 L 34.2116,44.0996\" style=\"fill:none;fill-rule:evenodd;stroke:#E5E5E5;stroke-width:2px;stroke-linecap:butt;stroke-linejoin:miter;stroke-opacity:1;stroke-dasharray:6,6\"/>\n",
       "<path class=\"bond-2\" d=\"M 35.4002,46.7329 L 58.8609,63.5951\" style=\"fill:none;fill-rule:evenodd;stroke:#000000;stroke-width:2px;stroke-linecap:butt;stroke-linejoin:miter;stroke-opacity:1\"/>\n",
       "<path class=\"bond-2\" d=\"M 35.5469,53.9544 L 51.9693,65.7579\" style=\"fill:none;fill-rule:evenodd;stroke:#000000;stroke-width:2px;stroke-linecap:butt;stroke-linejoin:miter;stroke-opacity:1;stroke-dasharray:6,6\"/>\n",
       "<path class=\"bond-3\" d=\"M 58.8609,63.5951 L 85.1943,51.7087\" style=\"fill:none;fill-rule:evenodd;stroke:#000000;stroke-width:2px;stroke-linecap:butt;stroke-linejoin:miter;stroke-opacity:1\"/>\n",
       "<path class=\"bond-4\" d=\"M 85.1943,51.7087 L 108.655,68.5709\" style=\"fill:none;fill-rule:evenodd;stroke:#000000;stroke-width:2px;stroke-linecap:butt;stroke-linejoin:miter;stroke-opacity:1\"/>\n",
       "<path class=\"bond-5\" d=\"M 108.655,68.5709 L 137.403,71.4437\" style=\"fill:none;fill-rule:evenodd;stroke:#000000;stroke-width:2px;stroke-linecap:butt;stroke-linejoin:miter;stroke-opacity:1\"/>\n",
       "<path class=\"bond-8\" d=\"M 108.655,68.5709 L 120.541,94.9043\" style=\"fill:none;fill-rule:evenodd;stroke:#000000;stroke-width:2px;stroke-linecap:butt;stroke-linejoin:miter;stroke-opacity:1\"/>\n",
       "<path class=\"bond-6\" d=\"M 137.403,71.4437 L 120.541,94.9043\" style=\"fill:none;fill-rule:evenodd;stroke:#E5E5E5;stroke-width:2px;stroke-linecap:butt;stroke-linejoin:miter;stroke-opacity:1\"/>\n",
       "<text dominant-baseline=\"central\" style=\"font-size:9px;font-style:normal;font-weight:normal;fill-opacity:1;stroke:none;font-family:sans-serif;fill:#7F7F7F\" text-anchor=\"end\" x=\"30.9403\" y=\"105.675\"><tspan>*</tspan></text>\n",
       "<text dominant-baseline=\"central\" style=\"font-size:9px;font-style:normal;font-weight:normal;fill-opacity:1;stroke:none;font-family:sans-serif;fill:#7F7F7F\" text-anchor=\"end\" x=\"10.3525\" y=\"60.0639\"><tspan>*</tspan></text>\n",
       "</svg>"
      ],
      "text/plain": [
       "<IPython.core.display.SVG object>"
      ]
     },
     "execution_count": 70,
     "metadata": {},
     "output_type": "execute_result"
    }
   ],
   "source": [
    "mol = Chem.MolFromSmiles('c1ccccc1CC1CC1')\n",
    "bi = {}\n",
    "fp = AllChem.GetMorganFingerprintAsBitVect(mol, radius=2, bitInfo=bi)\n",
    "Draw.DrawMorganBit(mol, 872, bi, useSVG=True)"
   ]
  },
  {
   "cell_type": "markdown",
   "metadata": {},
   "source": [
    "* 展示RDKit的分子指纹<br />\n",
    "黄色表示带有芳香性质的原子"
   ]
  },
  {
   "cell_type": "code",
   "execution_count": 73,
   "metadata": {},
   "outputs": [
    {
     "data": {
      "image/png": "[encoded data removed]",
      "text/plain": [
       "<PIL.PngImagePlugin.PngImageFile image mode=RGB size=150x150 at 0x89B5208>"
      ]
     },
     "execution_count": 73,
     "metadata": {},
     "output_type": "execute_result"
    }
   ],
   "source": [
    "rdkinfo = {}\n",
    "rdkfp = Chem.RDKFingerprint(mol, maxPath=5, bitInfo=rdkinfo)\n",
    "Draw.DrawRDKitBit(mol, list(rdkinfo.keys())[0], rdkinfo)"
   ]
  }
 ],
 "metadata": {
  "kernelspec": {
   "display_name": "Python 3",
   "language": "python",
   "name": "python3"
  },
  "language_info": {
   "codemirror_mode": {
    "name": "ipython",
    "version": 3
   },
   "file_extension": ".py",
   "mimetype": "text/x-python",
   "name": "python",
   "nbconvert_exporter": "python",
   "pygments_lexer": "ipython3",
   "version": "3.7.4"
  },
  "toc-autonumbering": true
 },
 "nbformat": 4,
 "nbformat_minor": 4
}
